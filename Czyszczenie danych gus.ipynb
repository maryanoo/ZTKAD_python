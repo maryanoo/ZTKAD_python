{
 "cells": [
  {
   "cell_type": "markdown",
   "id": "37f44ff1",
   "metadata": {},
   "source": [
    "## Analiza danych ZTKAD - kody pomocnicze - czyszczenie danych"
   ]
  },
  {
   "cell_type": "code",
   "execution_count": null,
   "id": "a2a07e46",
   "metadata": {},
   "outputs": [],
   "source": [
    "## Tworzenie listy województw dla terytu w tabeli"
   ]
  },
  {
   "cell_type": "code",
   "execution_count": 14,
   "id": "dd163e0f",
   "metadata": {},
   "outputs": [
    {
     "name": "stdout",
     "output_type": "stream",
     "text": [
      " 02  'dolnośląskie'\n",
      " 04  'kujawsko-pomorskie'\n",
      " 06  'lubelskie'\n",
      " 08  'lubuskie'\n",
      " 10  'łódzkie'\n",
      " 12  'małopolskie'\n",
      " 14  'mazowieckie'\n",
      " 16  'opolskie'\n",
      " 18  'podkarpackie'\n",
      " 20  'podlaskie'\n",
      " 22  'pomorskie'\n",
      " 24  'śląskie'\n",
      " 26  'świętokrzyskie'\n",
      " 28  'warmińsko-mazurskie'\n",
      " 30  'wielkopolskie'\n",
      " 32  'zachodniopomorskie'\n"
     ]
    }
   ],
   "source": [
    "# Create a list of Polish voivodeship names\n",
    "voivodeships = [\"dolnośląskie\", \"kujawsko-pomorskie\", \"lubelskie\", \"lubuskie\", \"łódzkie\", \"małopolskie\",\n",
    "                \"mazowieckie\", \"opolskie\", \"podkarpackie\", \"podlaskie\", \"pomorskie\", \"śląskie\", \"świętokrzyskie\",\n",
    "                \"warmińsko-mazurskie\", \"wielkopolskie\", \"zachodniopomorskie\"]\n",
    "\n",
    "# Initialize the ID variable\n",
    "id = 2\n",
    "\n",
    "# Print the table header\n",
    "#print(\"{:>3s} | {:^20s}\".format(\"ID\", \"Voivodeship\"))\n",
    "#print(\"-------------------------\")\n",
    "\n",
    "# Print the table rows\n",
    "for v in voivodeships:\n",
    "    print(\"{:>3s}  '{}'\".format(str(id).zfill(2), v))  # Add quotes around the voivodeship name\n",
    "    id += 2  # Increment the ID by 2 for each voivodeship"
   ]
  },
  {
   "cell_type": "markdown",
   "id": "1daf4ca4",
   "metadata": {},
   "source": [
    "## Szukanie duplikatów w terycie. Dla danych przekrojowych z wielu lat sprawdza, które wiersze są powielone."
   ]
  },
  {
   "cell_type": "code",
   "execution_count": 10,
   "id": "66b86dcc",
   "metadata": {},
   "outputs": [
    {
     "name": "stdout",
     "output_type": "stream",
     "text": [
      "          kod                     nazwa og-2019       og-2020       og-2021 bib-2019    bib-2020    bib-2021 osob-2019 osob-2020 osob-2021  typ_gminy  wojweództwo first_six_digits\n",
      "148   0224033  Kamieniec Ząbkowicki (3)       -             -  4 655 778,05        -           -        0,00         -         -    609,40          3            2           022403\n",
      "339   0602063                 Goraj (3)       -             -    693 625,45        -           -  150 000,00         -         -    175,29          3            6           060206\n",
      "403   0608053              Kamionka (3)       -             -  1 042 440,77        -           -  399 807,49         -         -    161,37          3            6           060805\n",
      "641   1004063                Piątek (3)       -    226 464,60    266 623,55        -   89 500,00  100 000,00         -     39,07     46,75          3           10           100406\n",
      "765   1018043               Lututów (3)       -    703 000,00    750 985,00        -  175 000,00  164 000,00         -    151,44    162,80          3           10           101804\n",
      "1040  1409063       Solec nad Wisłą (3)       -             -    587 672,32        -           -   68 499,99         -         -    126,06          3           14           140906\n",
      "1141  1420043   Czerwińsk nad Wisłą (3)       -    363 372,20    297 400,00        -  238 000,00  272 000,00         -     49,44     40,76          3           14           142004\n",
      "1149  1420113              Sochocin (3)       -             -    675 039,53        -           -  195 500,00         -         -    117,34          3           14           142011\n",
      "1284  1438053              Wiskitki (3)       -             -  1 058 928,37        -           -  269 378,19         -         -    104,73          3           14           143805\n",
      "1453  1813023              Dubiecko (3)       -             -    715 261,52        -           -  150 400,00         -         -     80,38          3           18           181302\n",
      "1947  2602093             Wodzisław (3)       -             -    832 091,72        -           -  289 118,00         -         -    126,77          3           26           260209\n",
      "2002  2609033             Klimontów (3)       -  1 090 210,30  2 235 286,32        -  318 055,77  389 976,63         -    141,35    292,31          3           26           260903\n",
      "2152  3001023                Budzyń (3)       -             -  2 539 078,92        -           -  400 000,00         -         -    302,56          3           30           300102\n",
      "2195  3007053              Koźminek (3)       -             -    559 811,13        -           -  257 000,00         -         -     75,78          3           30           300705\n"
     ]
    }
   ],
   "source": [
    "import pandas as pd\n",
    "\n",
    "# Load the CSV file into a DataFrame, set seprator and keep leading zero.\n",
    "df = pd.read_csv(\"data.csv\", sep=\";\",dtype={\"kod\": str})\n",
    "column_name = \"kod\"\n",
    "# Keep as string\n",
    "df[column_name] = df[column_name].astype(str)\n",
    "\n",
    "# Create a new column that contains the fir,t 6 digits of the \"kod\" column\n",
    "df['first_six_digits'] = df['kod'].str[:6]\n",
    "\n",
    "# Check for duplicates in the \"first_six_digits\" column\n",
    "duplicates = df[df.duplicated(['first_six_digits'])]\n",
    "\n",
    "# Print the duplicate rows\n",
    "print(duplicates.to_string())\n",
    "duplicates.to_csv('duplikaty_gus_teryt.csv', index=False)"
   ]
  },
  {
   "cell_type": "code",
   "execution_count": null,
   "id": "da50aa24",
   "metadata": {},
   "outputs": [],
   "source": [
    "Lista terytów dla województw. "
   ]
  },
  {
   "cell_type": "code",
   "execution_count": 8,
   "id": "99793d65",
   "metadata": {},
   "outputs": [
    {
     "name": "stdout",
     "output_type": "stream",
     "text": [
      " 02  'dolnośląskie'\n",
      " 04  'kujawsko-pomorskie'\n",
      " 06  'lubelskie'\n",
      " 08  'lubuskie'\n",
      " 10  'łódzkie'\n",
      " 12  'małopolskie'\n",
      " 14  'mazowieckie'\n",
      " 16  'opolskie'\n",
      " 18  'podkarpackie'\n",
      " 20  'podlaskie'\n",
      " 22  'pomorskie'\n",
      " 24  'śląskie'\n",
      " 26  'świętokrzyskie'\n",
      " 28  'warmińsko-mazurskie'\n",
      " 30  'wielkopolskie'\n",
      " 32  'zachodniopomorskie'\n"
     ]
    }
   ],
   "source": []
  },
  {
   "cell_type": "markdown",
   "id": "cdb71b5f",
   "metadata": {},
   "source": [
    "## Szukanie i złączanie plików.Znajduje dupilkaty, ale usuwa nowsze"
   ]
  },
  {
   "cell_type": "code",
   "execution_count": 21,
   "id": "e30e701e",
   "metadata": {},
   "outputs": [
    {
     "name": "stdout",
     "output_type": "stream",
     "text": [
      "     first_six_digits      kod             nazwa        og-2019  \\\n",
      "0              020101  0201011   Bolesławiec (1)   8 562 213,65   \n",
      "1              020102  0201022   Bolesławiec (2)   7 716 716,47   \n",
      "2              020103  0201032      Gromadka (2)   1 547 047,35   \n",
      "3              020104  0201043  Nowogrodziec (3)   2 855 493,33   \n",
      "4              020105  0201052    Osiecznica (2)   3 508 491,06   \n",
      "...               ...      ...               ...            ...   \n",
      "2472           321804  3218043         Resko (3)   3 739 669,74   \n",
      "2473           321805  3218053     Węgorzyno (3)   1 849 870,09   \n",
      "2474           326101  3261011      Koszalin (1)  27 123 909,65   \n",
      "2475           326201  3262011      Szczecin (1)  89 013 307,27   \n",
      "2476           326301  3263011   Świnoujście (1)   8 702 225,66   \n",
      "\n",
      "            og-2020        og-2021       bib-2019       bib-2020  \\\n",
      "0      7 352 370,02  10 342 327,41   1 946 230,00   2 059 879,00   \n",
      "1      4 061 592,75   5 666 783,27           0,00           0,00   \n",
      "2      1 507 996,70   1 445 658,97           0,00           0,00   \n",
      "3      2 953 892,10   2 009 424,41     344 000,00     497 000,00   \n",
      "4      1 123 001,82     792 804,20     330 000,00     290 000,00   \n",
      "...             ...            ...            ...            ...   \n",
      "2472   1 379 752,27   1 481 552,68           0,00           0,00   \n",
      "2473   2 248 618,19   1 798 687,51     228 551,70     414 168,64   \n",
      "2474  47 531 853,01  33 270 276,50   6 106 154,29   5 730 583,01   \n",
      "2475  82 561 557,31  88 995 573,42  11 917 688,46  14 319 840,00   \n",
      "2476   5 959 323,59   8 089 321,97   1 880 100,00   1 880 000,00   \n",
      "\n",
      "           bib-2021 osob-2019 osob-2020 osob-2021  typ_gminy  wojweództwo  \n",
      "0      1 943 471,61    220,38    194,05    276,12          1            2  \n",
      "1              0,00    527,06    272,92    375,16          2            2  \n",
      "2              0,00    288,90    291,34    281,80          2            2  \n",
      "3        446 400,00    187,69    199,25    135,45          3            2  \n",
      "4        269 851,49    474,38    151,06    108,07          2            2  \n",
      "...             ...       ...       ...       ...        ...          ...  \n",
      "2472           0,00    466,35    183,33    199,54          3           32  \n",
      "2473     339 800,00    265,40    347,60    280,30          3           32  \n",
      "2474   6 212 229,84    252,96    445,07    314,77          1           32  \n",
      "2475  10 030 585,62    221,39    206,39    225,05          1           32  \n",
      "2476   1 980 000,00    212,86    148,09    201,92          1           32  \n",
      "\n",
      "[2477 rows x 14 columns]\n"
     ]
    }
   ],
   "source": [
    "import pandas as pd\n",
    "\n",
    "# Load the CSV file into a DataFrame, set seprator and keep leading zero.\n",
    "df = pd.read_csv(\"data.csv\", sep=\";\",dtype={\"kod\": str})\n",
    "column_name = \"kod\"\n",
    "# Keep as string\n",
    "df[column_name] = df[column_name].astype(str)\n",
    "\n",
    "# Create a new column that contains the fir,t 6 digits of the \"kod\" column\n",
    "df['first_six_digits'] = df['kod'].str[:6]\n",
    "\n",
    "# Group the rows by the \"first_six_digits\" column and apply the \"first\" aggregation function\n",
    "# to the other columns to combine their values\n",
    "df = df.groupby(['first_six_digits'], as_index=False).first()\n",
    "\n",
    "# Print the resulting DataFrame\n",
    "print(df)\n",
    "df.to_csv('wyczyszczony_gus_teryt.csv', index=False)"
   ]
  },
  {
   "cell_type": "markdown",
   "id": "1d3fad2c",
   "metadata": {},
   "source": [
    "## Upewnienie się, że zero wiodące jest w pliku. "
   ]
  },
  {
   "cell_type": "code",
   "execution_count": 22,
   "id": "1f5a7dfd",
   "metadata": {},
   "outputs": [
    {
     "name": "stdout",
     "output_type": "stream",
     "text": [
      "     first_six_digits      kod             nazwa        og-2019  \\\n",
      "0              020101  0201011   Bolesławiec (1)   8 562 213,65   \n",
      "1              020102  0201022   Bolesławiec (2)   7 716 716,47   \n",
      "2              020103  0201032      Gromadka (2)   1 547 047,35   \n",
      "3              020104  0201043  Nowogrodziec (3)   2 855 493,33   \n",
      "4              020105  0201052    Osiecznica (2)   3 508 491,06   \n",
      "...               ...      ...               ...            ...   \n",
      "2472           321804  3218043         Resko (3)   3 739 669,74   \n",
      "2473           321805  3218053     Węgorzyno (3)   1 849 870,09   \n",
      "2474           326101  3261011      Koszalin (1)  27 123 909,65   \n",
      "2475           326201  3262011      Szczecin (1)  89 013 307,27   \n",
      "2476           326301  3263011   Świnoujście (1)   8 702 225,66   \n",
      "\n",
      "            og-2020        og-2021       bib-2019       bib-2020  \\\n",
      "0      7 352 370,02  10 342 327,41   1 946 230,00   2 059 879,00   \n",
      "1      4 061 592,75   5 666 783,27           0,00           0,00   \n",
      "2      1 507 996,70   1 445 658,97           0,00           0,00   \n",
      "3      2 953 892,10   2 009 424,41     344 000,00     497 000,00   \n",
      "4      1 123 001,82     792 804,20     330 000,00     290 000,00   \n",
      "...             ...            ...            ...            ...   \n",
      "2472   1 379 752,27   1 481 552,68           0,00           0,00   \n",
      "2473   2 248 618,19   1 798 687,51     228 551,70     414 168,64   \n",
      "2474  47 531 853,01  33 270 276,50   6 106 154,29   5 730 583,01   \n",
      "2475  82 561 557,31  88 995 573,42  11 917 688,46  14 319 840,00   \n",
      "2476   5 959 323,59   8 089 321,97   1 880 100,00   1 880 000,00   \n",
      "\n",
      "           bib-2021 osob-2019 osob-2020 osob-2021  typ_gminy  wojweództwo  \n",
      "0      1 943 471,61    220,38    194,05    276,12          1            2  \n",
      "1              0,00    527,06    272,92    375,16          2            2  \n",
      "2              0,00    288,90    291,34    281,80          2            2  \n",
      "3        446 400,00    187,69    199,25    135,45          3            2  \n",
      "4        269 851,49    474,38    151,06    108,07          2            2  \n",
      "...             ...       ...       ...       ...        ...          ...  \n",
      "2472           0,00    466,35    183,33    199,54          3           32  \n",
      "2473     339 800,00    265,40    347,60    280,30          3           32  \n",
      "2474   6 212 229,84    252,96    445,07    314,77          1           32  \n",
      "2475  10 030 585,62    221,39    206,39    225,05          1           32  \n",
      "2476   1 980 000,00    212,86    148,09    201,92          1           32  \n",
      "\n",
      "[2477 rows x 14 columns]\n"
     ]
    }
   ],
   "source": [
    "import pandas as pd\n",
    "\n",
    "# Load the CSV file into a DataFrame, set seprator and keep leading zero.\n",
    "df = pd.read_csv(\"data.csv\", sep=\";\",dtype={\"kod\": str})\n",
    "column_name = \"kod\"\n",
    "# Keep as string\n",
    "df[column_name] = df[column_name].astype(str)\n",
    "\n",
    "# Create a new column that contains the fir,t 6 digits of the \"kod\" column\n",
    "df['first_six_digits'] = df['kod'].str[:6]\n",
    "df['kod'] = df['kod'].str.zfill(7)\n",
    "# Group the rows by the \"first_six_digits\" column and apply the \"first\" aggregation function\n",
    "# to the other columns to combine their values\n",
    "df = df.groupby(['first_six_digits'], as_index=False).first()\n",
    "\n",
    "# Print the resulting DataFrame\n",
    "print(df)\n",
    "\n",
    "# Save the resulting DataFrame to a CSV file\n",
    "df.to_csv('wyczyszczony_gus_teryt.csv', index=False)\n",
    "\n"
   ]
  },
  {
   "cell_type": "code",
   "execution_count": null,
   "id": "fa07bfd4",
   "metadata": {},
   "outputs": [],
   "source": []
  }
 ],
 "metadata": {
  "kernelspec": {
   "display_name": "Python 3 (ipykernel)",
   "language": "python",
   "name": "python3"
  },
  "language_info": {
   "codemirror_mode": {
    "name": "ipython",
    "version": 3
   },
   "file_extension": ".py",
   "mimetype": "text/x-python",
   "name": "python",
   "nbconvert_exporter": "python",
   "pygments_lexer": "ipython3",
   "version": "3.10.8"
  }
 },
 "nbformat": 4,
 "nbformat_minor": 5
}
